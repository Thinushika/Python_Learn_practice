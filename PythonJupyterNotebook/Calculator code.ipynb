{
 "cells": [
  {
   "cell_type": "code",
   "execution_count": 14,
   "metadata": {},
   "outputs": [
    {
     "name": "stdout",
     "output_type": "stream",
     "text": [
      "Enter your first number : 8\n",
      "Enter your first number : 4\n",
      "Enter operator : /\n",
      "The answer of  8   /   4  =  2.0\n"
     ]
    }
   ],
   "source": [
    "First_number = int(input(\"Enter your first number : \"))\n",
    "Second_number = int(input(\"Enter your first number : \"))\n",
    "Operator = str(input(\"Enter operator : \"))\n",
    "\n",
    "# addition function\n",
    "def addition(First_number,Second_number):\n",
    "    sum = First_number+Second_number\n",
    "    print(\"The answer of \",First_number,\" \",Operator,\" \",Second_number,\" = \",sum)\n",
    "    \n",
    "# substraction function\n",
    "def substraction(First_number,Second_number):\n",
    "    sub = First_number-Second_number\n",
    "    print(\"The answer of \",First_number,\" \",Operator,\" \",Second_number,\" = \",sub)\n",
    "    \n",
    "# multiplecation function\n",
    "def multiplecation(First_number,Second_number):\n",
    "    mul = First_number*Second_number\n",
    "    print(\"The answer of \",First_number,\" \",Operator,\" \",Second_number,\" = \",mul)\n",
    "    \n",
    "# divition function\n",
    "def divition(First_number,Second_number):\n",
    "    div = First_number/Second_number\n",
    "    print(\"The answer of \",First_number,\" \",Operator,\" \",Second_number,\" = \",div)\n",
    "    \n",
    "\n",
    "# Selection of operator\n",
    "if (Operator == \"+\"):\n",
    "    addition(First_number,Second_number)\n",
    "elif(Operator == \"-\"):\n",
    "    substraction(First_number,Second_number)\n",
    "elif(Operator == \"*\"):\n",
    "    multiplecation(First_number,Second_number)\n",
    "elif(Operator == \"/\"):\n",
    "    divition(First_number,Second_number)\n",
    "else:\n",
    "    print(\"Sorry..Invalid operator\")"
   ]
  },
  {
   "cell_type": "code",
   "execution_count": null,
   "metadata": {},
   "outputs": [],
   "source": []
  }
 ],
 "metadata": {
  "kernelspec": {
   "display_name": "Python 3",
   "language": "python",
   "name": "python3"
  },
  "language_info": {
   "codemirror_mode": {
    "name": "ipython",
    "version": 3
   },
   "file_extension": ".py",
   "mimetype": "text/x-python",
   "name": "python",
   "nbconvert_exporter": "python",
   "pygments_lexer": "ipython3",
   "version": "3.7.7"
  }
 },
 "nbformat": 4,
 "nbformat_minor": 4
}
